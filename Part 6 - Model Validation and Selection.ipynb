{
 "cells": [
  {
   "cell_type": "code",
   "execution_count": 1,
   "metadata": {},
   "outputs": [],
   "source": [
    "import pandas as pd\n",
    "import numpy as np\n",
    "import datetime\n",
    "import sklearn\n",
    "import tsfresh\n",
    "from tsfresh import extract_features\n",
    "from tsfresh.utilities.dataframe_functions import make_forecasting_frame\n",
    "from sklearn.ensemble import AdaBoostRegressor\n",
    "from tsfresh.utilities.dataframe_functions import impute\n",
    "import warnings\n",
    "warnings.filterwarnings('ignore')\n",
    "import datetime\n",
    "import sklearn\n",
    "from sklearn.ensemble import RandomForestRegressor\n",
    "from sklearn.model_selection import RandomizedSearchCV\n",
    "from sklearn.grid_search import GridSearchCV\n",
    "from sklearn.metrics import *\n",
    "from sklearn.neural_network import MLPRegressor\n",
    "from sklearn.cross_validation import train_test_split\n",
    "from sklearn.preprocessing import StandardScaler\n",
    "scaler = StandardScaler()"
   ]
  },
  {
   "cell_type": "code",
   "execution_count": 2,
   "metadata": {},
   "outputs": [],
   "source": [
    "def mean_absolute_percentage_error(y_true, y_pred): \n",
    "        y_true, y_pred = np.array(y_true), np.array(y_pred)\n",
    "        return np.mean(np.abs((y_true - y_pred) / y_true)) * 100"
   ]
  },
  {
   "cell_type": "code",
   "execution_count": 3,
   "metadata": {},
   "outputs": [],
   "source": [
    "data = pd.read_csv('energydata_Transformation.csv', parse_dates=['date'])"
   ]
  },
  {
   "cell_type": "code",
   "execution_count": 4,
   "metadata": {},
   "outputs": [],
   "source": [
    "weekType = pd.get_dummies(data['weekType'], prefix = 'weekType')\n",
    "day_of_week = pd.get_dummies(data['day_of_week'], prefix = 'day_of_week')\n",
    "#['Monday', 'Tuesday', 'Wednesday', 'Thursday', 'Friday', 'Saturday', 'Sunday']\n",
    "#['Weekend', 'Weekday']\n",
    "\n",
    "# Concat above dummies variable dataframe to the main dataframe\n",
    "data = pd.concat((data,weekType),axis=1)\n",
    "data = pd.concat((data,day_of_week),axis=1)\n",
    "\n",
    "# Drop the WeekStatus and Day_of_week column\n",
    "data = data.drop(['weekType','day_of_week', 'time'],axis=1)"
   ]
  },
  {
   "cell_type": "code",
   "execution_count": 5,
   "metadata": {},
   "outputs": [],
   "source": [
    "check_outliers = ['Appliances', 'temp_kitchen', 'hum_kitchen', 'temp_living',\n",
    "       'hum_living', 'temp_laundry', 'hum_laundry', 'temp_office',\n",
    "       'hum_office', 'temp_bathroom', 'hum_bathroom', 'temp_building_out',\n",
    "       'hum_building_out', 'temp_ironing', 'hum_ironing', 'temp_teenRoom',\n",
    "       'hum_teenRoom', 'hum_parentRoom', 'Pressure', 'hum_out', 'Windspeed',\n",
    "       'Visibility', 'Tdewpoint', 'rv1']\n",
    "\n",
    "for x in data[check_outliers]:\n",
    "    data = data[np.abs(data[x]-data[x].mean()) <= (3*data[x].std())]"
   ]
  },
  {
   "cell_type": "code",
   "execution_count": 10,
   "metadata": {},
   "outputs": [
    {
     "name": "stdout",
     "output_type": "stream",
     "text": [
      "(12413, 20)\n",
      "(5321, 20)\n"
     ]
    }
   ],
   "source": [
    "data_train,data_test = train_test_split(data,train_size=0.7,random_state=42)\n",
    "column_list =['temp_kitchen', 'hum_kitchen', 'temp_living',\n",
    "       'hum_living', 'temp_laundry', 'hum_laundry', 'temp_office',\n",
    "       'hum_office', 'temp_bathroom', 'hum_bathroom', 'temp_building_out',\n",
    "       'hum_building_out', 'temp_ironing', 'hum_ironing', 'temp_teenRoom',\n",
    "       'hum_teenRoom', 'hum_parentRoom', 'Pressure','Visibility', 'month']\n",
    "x_train=data_train.iloc[:,1:]\n",
    "x_train= x_train[column_list]\n",
    "print(x_train.shape)\n",
    "y_train=data_train['Appliances']\n",
    "scaler.fit(x_train)\n",
    "x_train_sc=scaler.transform(x_train)\n",
    "x_test=data_test.iloc[:,1:]\n",
    "x_test = x_test[column_list]\n",
    "print(x_test.shape)\n",
    "y_test=data_test['Appliances']\n",
    "x_test_sc=scaler.transform(x_test)"
   ]
  },
  {
   "cell_type": "code",
   "execution_count": 6,
   "metadata": {},
   "outputs": [],
   "source": [
    "from sklearn.neighbors import KNeighborsRegressor\n",
    "from sklearn.linear_model import LinearRegression\n",
    "from sklearn.metrics import r2_score\n",
    "from sklearn.metrics import mean_squared_error\n",
    "from sklearn.metrics import mean_absolute_error\n",
    "from sklearn.neural_network import MLPRegressor\n",
    "from sklearn.cross_validation import train_test_split\n",
    "from sklearn.ensemble import RandomForestRegressor\n",
    "import numpy as np"
   ]
  },
  {
   "cell_type": "code",
   "execution_count": 12,
   "metadata": {},
   "outputs": [],
   "source": [
    "# Xtrn, Xtest, Ytrn, Ytest = train_test_split(features_filtered,y,test_size=0.3,random_state=42)\n",
    "\n",
    "# model = RandomForestRegressor(n_estimators=150, max_features='sqrt', n_jobs=-1)  # случайный лес\n",
    "models = [RandomForestRegressor()]\n",
    "\n",
    "TestModels = pd.DataFrame()\n",
    "tmp = {}\n",
    "\n",
    "for model in models:\n",
    "    # get model name\n",
    "    m = str(model)\n",
    "    tmp['Model'] = m[:m.index('(')]\n",
    "    # fit model on training dataset\n",
    "    model.fit(x_train_sc, y_train)\n",
    "    # predict consumption\n",
    "    predictions = model.predict(x_test)\n",
    "    #Evaluation for Testing set\n",
    "    #R2 score\n",
    "    tmp['R2_Test'] = r2_score(y_test,predictions)\n",
    "    #Mean Absolute Error(MAE)\n",
    "    tmp['MAE_Test']= mean_absolute_error(y_test,predictions)\n",
    "    #Mean Squared Error(MSE)\n",
    "    tmp['MSE_Test']= mean_squared_error(y_test,predictions)\n",
    "    #Root Mean Squared Error (RMSE)\n",
    "    tmp['RMSE_Test'] = np.sqrt(mean_squared_error(y_test,predictions))\n",
    "    #Evaluation for Training test\n",
    "    predictions_trn = model.predict(x_train_sc)\n",
    "    #R2_Score\n",
    "    tmp['R2_Train'] = r2_score(y_train,predictions_trn)\n",
    "    #Mean Absolute Error(MAE)\n",
    "    tmp['MAE_Train']= mean_absolute_error(y_train,predictions_trn)\n",
    "    #Mean Squared Error(MSE)\n",
    "    tmp['MSE_Train']= mean_squared_error(y_train,predictions_trn)\n",
    "    #Root Mean Squared Error (RMSE)\n",
    "    tmp['RMSE_Train'] = np.sqrt(mean_squared_error(y_train,predictions_trn))\n",
    "    \n",
    "    tmp['Training Score(%)'] = round(model.score(x_train_sc, y_train) * 100,3)\n",
    "    tmp['Testing Score(%)'] = round(model.score(x_test, y_test) * 100,3)\n",
    "    \n",
    "    tmp['MAPE_Test'] =  round(mean_absolute_percentage_error(y_test,predictions))\n",
    "    tmp['MAPE_Train'] =  round(mean_absolute_percentage_error(y_train,predictions_trn))\n",
    "    # write obtained data\n",
    "    TestModels = TestModels.append([tmp])\n",
    "\n",
    "TestModels.set_index('Model', inplace=True)"
   ]
  },
  {
   "cell_type": "code",
   "execution_count": 13,
   "metadata": {},
   "outputs": [
    {
     "data": {
      "text/html": [
       "<div>\n",
       "<style scoped>\n",
       "    .dataframe tbody tr th:only-of-type {\n",
       "        vertical-align: middle;\n",
       "    }\n",
       "\n",
       "    .dataframe tbody tr th {\n",
       "        vertical-align: top;\n",
       "    }\n",
       "\n",
       "    .dataframe thead th {\n",
       "        text-align: right;\n",
       "    }\n",
       "</style>\n",
       "<table border=\"1\" class=\"dataframe\">\n",
       "  <thead>\n",
       "    <tr style=\"text-align: right;\">\n",
       "      <th></th>\n",
       "      <th>MAE_Test</th>\n",
       "      <th>MAE_Train</th>\n",
       "      <th>MAPE_Test</th>\n",
       "      <th>MAPE_Train</th>\n",
       "      <th>MSE_Test</th>\n",
       "      <th>MSE_Train</th>\n",
       "      <th>R2_Test</th>\n",
       "      <th>R2_Train</th>\n",
       "      <th>RMSE_Test</th>\n",
       "      <th>RMSE_Train</th>\n",
       "      <th>Testing Score(%)</th>\n",
       "      <th>Training Score(%)</th>\n",
       "    </tr>\n",
       "    <tr>\n",
       "      <th>Model</th>\n",
       "      <th></th>\n",
       "      <th></th>\n",
       "      <th></th>\n",
       "      <th></th>\n",
       "      <th></th>\n",
       "      <th></th>\n",
       "      <th></th>\n",
       "      <th></th>\n",
       "      <th></th>\n",
       "      <th></th>\n",
       "      <th></th>\n",
       "      <th></th>\n",
       "    </tr>\n",
       "  </thead>\n",
       "  <tbody>\n",
       "    <tr>\n",
       "      <th>RandomForestRegressor</th>\n",
       "      <td>113.471904</td>\n",
       "      <td>9.910658</td>\n",
       "      <td>202.0</td>\n",
       "      <td>11.0</td>\n",
       "      <td>14120.143582</td>\n",
       "      <td>424.16958</td>\n",
       "      <td>-1.696863</td>\n",
       "      <td>0.909329</td>\n",
       "      <td>118.82821</td>\n",
       "      <td>20.595378</td>\n",
       "      <td>-169.686</td>\n",
       "      <td>90.933</td>\n",
       "    </tr>\n",
       "  </tbody>\n",
       "</table>\n",
       "</div>"
      ],
      "text/plain": [
       "                         MAE_Test  MAE_Train  MAPE_Test  MAPE_Train  \\\n",
       "Model                                                                 \n",
       "RandomForestRegressor  113.471904   9.910658      202.0        11.0   \n",
       "\n",
       "                           MSE_Test  MSE_Train   R2_Test  R2_Train  RMSE_Test  \\\n",
       "Model                                                                           \n",
       "RandomForestRegressor  14120.143582  424.16958 -1.696863  0.909329  118.82821   \n",
       "\n",
       "                       RMSE_Train  Testing Score(%)  Training Score(%)  \n",
       "Model                                                                   \n",
       "RandomForestRegressor   20.595378          -169.686             90.933  "
      ]
     },
     "execution_count": 13,
     "metadata": {},
     "output_type": "execute_result"
    }
   ],
   "source": [
    "TestModels"
   ]
  },
  {
   "cell_type": "markdown",
   "metadata": {},
   "source": [
    "Cross Validation"
   ]
  },
  {
   "cell_type": "code",
   "execution_count": null,
   "metadata": {},
   "outputs": [],
   "source": [
    "from sklearn.model_selection import RandomizedSearchCV\n",
    "\n",
    "# Initialize the model based on best performance from above, We got ExtraTreesRegressor \n",
    "sel_model = RandomForestRegressor(random_state=42)\n",
    "\n",
    "# Define the parameter subset\n",
    "\n",
    "param_grid = {\n",
    "    \"n_estimators\": [10, 50, 100, 200, 250, 300, 500, 800],\n",
    "    \"max_features\": [\"auto\", \"sqrt\", \"log2\"],\n",
    "    \"max_depth\": [None, 10, 50, 100, 200, 500]\n",
    "}\n",
    "\n",
    "# Use Randomized search to try 20 subsets from parameter space with 5-fold cross validation\n",
    "random_search = RandomizedSearchCV(sel_model, param_grid, n_iter=20, scoring=\"r2\", cv=5, n_jobs=-1, verbose=2, random_state=42)\n",
    "random_search.fit(x_train_sc, y_train)"
   ]
  },
  {
   "cell_type": "code",
   "execution_count": 16,
   "metadata": {},
   "outputs": [
    {
     "name": "stdout",
     "output_type": "stream",
     "text": [
      "{'n_estimators': 500, 'max_features': 'log2', 'max_depth': 100}\n"
     ]
    }
   ],
   "source": [
    "# Best Parameters for the model from Randomized Search CV\n",
    "print(random_search.best_params_)"
   ]
  },
  {
   "cell_type": "code",
   "execution_count": 28,
   "metadata": {},
   "outputs": [],
   "source": [
    "def evaluate(model, test_features, test_labels):\n",
    "    predictions = model.predict(test_features)\n",
    "    errors = abs(predictions - test_labels)\n",
    "    mae = mean_absolute_error(test_labels,predictions)\n",
    "    mape = 100 * np.mean(errors / test_labels)\n",
    "    rmse = np.sqrt(mean_squared_error(test_labels,predictions))\n",
    "    accuracy = model.score(test_features, test_labels)\n",
    "    print('Model Performance')\n",
    "    print('R2 : {:0.3f}'.format(accuracy))\n",
    "    print('Average Error: {:0.4f} degrees.'.format(np.mean(errors)))\n",
    "    print('RMSE : {:0.4f}'.format(rmse)) \n",
    "    print('MAPE : {:0.4f}'.format(mae*100))\n",
    "    print('MAE: {:0.4f}'.format(mae))\n",
    "    return accuracy"
   ]
  },
  {
   "cell_type": "code",
   "execution_count": 19,
   "metadata": {},
   "outputs": [
    {
     "data": {
      "text/plain": [
       "<bound method BaseEstimator.get_params of RandomForestRegressor(bootstrap=True, criterion='mse', max_depth=None,\n",
       "           max_features='auto', max_leaf_nodes=None,\n",
       "           min_impurity_decrease=0.0, min_impurity_split=None,\n",
       "           min_samples_leaf=1, min_samples_split=2,\n",
       "           min_weight_fraction_leaf=0.0, n_estimators=10, n_jobs=1,\n",
       "           oob_score=False, random_state=42, verbose=0, warm_start=False)>"
      ]
     },
     "execution_count": 19,
     "metadata": {},
     "output_type": "execute_result"
    }
   ],
   "source": [
    "sel_model.get_params"
   ]
  },
  {
   "cell_type": "code",
   "execution_count": 22,
   "metadata": {},
   "outputs": [
    {
     "name": "stdout",
     "output_type": "stream",
     "text": [
      "Model Performance\n",
      "R2 : -4.339\n",
      "Average Error: 160.6593 degrees.\n",
      "RMSE : 167.1899\n",
      "MAPE : 16065.9275\n",
      "MAE: 160.6593\n"
     ]
    }
   ],
   "source": [
    "base_model = RandomForestRegressor(random_state = 42)\n",
    "base_model.fit(x_train_sc, y_train)\n",
    "base_accuracy = evaluate(base_model, x_test, y_test)"
   ]
  },
  {
   "cell_type": "code",
   "execution_count": 29,
   "metadata": {},
   "outputs": [
    {
     "name": "stdout",
     "output_type": "stream",
     "text": [
      "Model Performance\n",
      "R2 : 0.913\n",
      "Average Error: 9.8063 degrees.\n",
      "RMSE : 20.1272\n",
      "MAPE : 980.6252\n",
      "MAE: 9.8063\n"
     ]
    }
   ],
   "source": [
    "base_accuracy = evaluate(base_model, x_train_sc, y_train)"
   ]
  },
  {
   "cell_type": "code",
   "execution_count": 30,
   "metadata": {},
   "outputs": [
    {
     "name": "stdout",
     "output_type": "stream",
     "text": [
      "Model Performance\n",
      "R2 : 0.941\n",
      "Average Error: 8.3618 degrees.\n",
      "RMSE : 16.5800\n",
      "MAPE : 836.1787\n",
      "MAE: 8.3618\n"
     ]
    }
   ],
   "source": [
    "best_model = random_search.best_estimator_\n",
    "best_accuracy = evaluate(best_model, x_train_sc, y_train)"
   ]
  },
  {
   "cell_type": "code",
   "execution_count": 32,
   "metadata": {},
   "outputs": [
    {
     "data": {
      "text/plain": [
       "0.3244846837349832"
      ]
     },
     "execution_count": 32,
     "metadata": {},
     "output_type": "execute_result"
    }
   ],
   "source": [
    "from sklearn.cross_validation import cross_val_score\n",
    "\n",
    "sel_model = RandomForestRegressor()\n",
    "scores = cross_val_score(sel_model, x_test, y_test, cv=5)\n",
    "scores.mean()"
   ]
  },
  {
   "cell_type": "markdown",
   "metadata": {},
   "source": [
    "Regularization"
   ]
  },
  {
   "cell_type": "code",
   "execution_count": 43,
   "metadata": {},
   "outputs": [
    {
     "name": "stdout",
     "output_type": "stream",
     "text": [
      "R2 :0.165\n",
      "MSE: 3907.911\n",
      "RMSE: 62.513\n",
      "MAE: 38.030\n",
      "MAPE:50.354\n"
     ]
    }
   ],
   "source": [
    "from sklearn.linear_model import Ridge\n",
    "\n",
    "## training the model\n",
    "\n",
    "ridgeReg = Ridge(alpha=0.05, normalize=True)\n",
    "\n",
    "ridgeReg.fit(x_train_sc,y_train)\n",
    "\n",
    "predictions = ridgeReg.predict(x_train_sc)\n",
    "\n",
    "print('R2 :{:.3f}'.format(ridgeReg.score(x_train_sc,y_train)))\n",
    "print('MSE: {:.3f}'.format(mean_squared_error(y_train,predictions)))\n",
    "print('RMSE: {:.3f}'.format(np.sqrt(mean_squared_error(y_train,predictions))))\n",
    "print('MAE: {:.3f}'.format(mean_absolute_error(y_train,predictions)))\n",
    "print('MAPE:{:.3f}'.format(np.mean(np.abs((y_train - predictions) / y_train)) * 100))"
   ]
  },
  {
   "cell_type": "code",
   "execution_count": 44,
   "metadata": {},
   "outputs": [
    {
     "name": "stdout",
     "output_type": "stream",
     "text": [
      "MSE: 3897.544\n",
      "RMSE: 62.430\n",
      "MAE: 37.954\n",
      "MAPE:50.106\n"
     ]
    }
   ],
   "source": [
    "from sklearn.linear_model import Lasso\n",
    "\n",
    "## training the model\n",
    "\n",
    "LassoReg = Lasso(alpha=0.005, normalize=True)\n",
    "\n",
    "LassoReg.fit(x_train_sc,y_train)\n",
    "\n",
    "predictions = LassoReg.predict(x_train_sc)\n",
    "print('MSE: {:.3f}'.format(mean_squared_error(y_train,predictions)))\n",
    "print('RMSE: {:.3f}'.format(np.sqrt(mean_squared_error(y_train,predictions))))\n",
    "print('MAE: {:.3f}'.format(mean_absolute_error(y_train,predictions)))\n",
    "print('MAPE:{:.3f}'.format(np.mean(np.abs((y_train - predictions) / y_train)) * 100))"
   ]
  },
  {
   "cell_type": "code",
   "execution_count": 45,
   "metadata": {},
   "outputs": [
    {
     "name": "stdout",
     "output_type": "stream",
     "text": [
      "MSE: 4570.834\n",
      "RMSE: 67.608\n",
      "MAE: 43.543\n",
      "MAPE:59.585\n"
     ]
    }
   ],
   "source": [
    "from sklearn.linear_model import ElasticNet\n",
    "\n",
    "## training the model\n",
    "\n",
    "ElasticNetReg = ElasticNet(alpha=0.001, normalize=True)\n",
    "\n",
    "ElasticNetReg.fit(x_train_sc,y_train)\n",
    "\n",
    "predictions = ElasticNetReg.predict(x_train_sc)\n",
    "print('MSE: {:.3f}'.format(mean_squared_error(y_train,predictions)))\n",
    "print('RMSE: {:.3f}'.format(np.sqrt(mean_squared_error(y_train,predictions))))\n",
    "print('MAE: {:.3f}'.format(mean_absolute_error(y_train,predictions)))\n",
    "print('MAPE:{:.3f}'.format(np.mean(np.abs((y_train - predictions) / y_train)) * 100))"
   ]
  },
  {
   "cell_type": "code",
   "execution_count": null,
   "metadata": {},
   "outputs": [],
   "source": []
  }
 ],
 "metadata": {
  "kernelspec": {
   "display_name": "Python 3",
   "language": "python",
   "name": "python3"
  },
  "language_info": {
   "codemirror_mode": {
    "name": "ipython",
    "version": 3
   },
   "file_extension": ".py",
   "mimetype": "text/x-python",
   "name": "python",
   "nbconvert_exporter": "python",
   "pygments_lexer": "ipython3",
   "version": "3.6.5"
  }
 },
 "nbformat": 4,
 "nbformat_minor": 2
}
