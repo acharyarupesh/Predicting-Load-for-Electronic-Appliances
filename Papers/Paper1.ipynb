{
 "cells": [
  {
   "cell_type": "markdown",
   "metadata": {},
   "source": [
    "# Paper A Summary\n",
    "\n",
    "\n",
    "## Background\n",
    "\n",
    "The author seeks to understand energy usage by consumers to create a better prediction model. Before executing their own analysis, the author researched what has been done in the field. A variety of research papers were reviewed in appliance load modeling and electrical load usage. Research is difficult in this area because it is very random and dependent on the individual consumer behavior.\n",
    "\n",
    "## Analysis Process\n",
    "\n",
    "The research centered around the ability to predict electrical appliance load. To do this there was data collected at a newly constructed low-energy house in Belgium. The house was outfitted with a wireless sensor network to collect temperature and relative humidity data throughout the house (including one exterior sensor). The house also had a electrical meters to collect appliance electrical load use and light use. In a adddition to this data, there was weather data available for the time period from the nearby airport. Using this data, an exploratory data analysis was conducted to better understand the data. Correlations were determined between the variables that better helped during the feature engineering process. Feature selection was done two ways. First, using the Boruta package which is an all relevant features methodology. This means that it uses all features that positively affect prediction. Second, using the recursive feature elimination package, which utilizes a more traditional methodology of using the minimum number of features for the lowest root mean square error. The data was then fed into the selected models (regression, SVM-radial, RF, and GBM). The models were trained using 10 fold cross validation. The RF and GBM had the highest success in prediction, with the GBM having a slightly more accurate score. With the best model found, the author tested how removing different variables affected the model's performance.\n",
    "\n",
    "## Results\n",
    "Generated four prediction models\n",
    "- multiple linear regression\n",
    "- support vector machine with radial kernel (SVM- radial)\n",
    "- random forest\n",
    "- gradient boosting machine (GBM)\n",
    "> GBM had best results\n",
    "\n",
    "Weather data and in-house sensor data increased prediciton accuracy\n",
    "\n",
    "\n",
    "\n"
   ]
  },
  {
   "cell_type": "code",
   "execution_count": null,
   "metadata": {},
   "outputs": [],
   "source": []
  }
 ],
 "metadata": {
  "kernelspec": {
   "display_name": "Python 3",
   "language": "python",
   "name": "python3"
  },
  "language_info": {
   "codemirror_mode": {
    "name": "ipython",
    "version": 3
   },
   "file_extension": ".py",
   "mimetype": "text/x-python",
   "name": "python",
   "nbconvert_exporter": "python",
   "pygments_lexer": "ipython3",
   "version": "3.6.5"
  }
 },
 "nbformat": 4,
 "nbformat_minor": 2
}
