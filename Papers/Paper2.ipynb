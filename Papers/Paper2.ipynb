{
 "cells": [
  {
   "cell_type": "markdown",
   "metadata": {},
   "source": [
    "# Renewable and Sustainable Energy Reviews"
   ]
  },
  {
   "cell_type": "markdown",
   "metadata": {},
   "source": [
    "#### Research Paper: https://www.sciencedirect.com/science/article/pii/S1364032116307420"
   ]
  },
  {
   "cell_type": "markdown",
   "metadata": {},
   "source": [
    "### Introduction:"
   ]
  },
  {
   "cell_type": "markdown",
   "metadata": {},
   "source": [
    "   The paper focuses upon the importance of Building-Energy-Use prediction to promote developments in renewable and sustainable energy. It compared and showcased the dominant advantages of Artificial Intelligence (AI) based methods over engineering and hybrid methods. The AI based method predicts energy use without knowing the internal relationship of the building and the individual components whereas the Hybrid method requires detailed building information for simulation of model development. There are 2 AI based algorithm prediction methods which are widely used for energy systems are the single prediction method utilize one learning algorithm and the Ensemble Prediction method which integrates a bunch of algorithm models for prediction and hence is more complex than the single algorithm approach but much more accurate.The author has reviewed 35 and 12 journals to understand on current AI based approaches and applications of Ensemble model, respectively. Also, the paper has directed on ways to improve on these method’s accuracy in the near future."
   ]
  },
  {
   "cell_type": "markdown",
   "metadata": {},
   "source": [
    "   Buildings account for nearly 30% of global energy usage and can be either commercial, residential, educational, research or other types. AI-based prediction method predicts building energy use according to its correlated variables such as environmental conditions, building characteristics, and occupancy status. Due to its prediction performance, AI-based methods have been widely applied in the domain of building energy use prediction. Previous studies have compared the AI-based methods with other prediction methods for building energy use."
   ]
  },
  {
   "cell_type": "markdown",
   "metadata": {},
   "source": [
    "### Content:"
   ]
  },
  {
   "cell_type": "markdown",
   "metadata": {},
   "source": [
    "There are 2 prediction method which are widely used for energy systems. They are as follows:\n",
    "\n",
    "Single Prediction – utilize one learning algorithm\n",
    "\n",
    "Ensemble Prediction – integrate some of the single prediction to improve accuracy of prediction.\n",
    "\n",
    "There are many parameters which can be used for predicting energy usage by buildings like building type which can be commercial, residential, educational or research. We can assume them to be one among educational, research or commercial due to availability of data. Residential building has privacy issues. The predicting model used for energy usage varied from one prediction algorithm to ensemble. Ensemble model is preferred due to its demonstrated superiority over one prediction after much research and development into it over the years. Artificial Neural Network (ANN) is used because of ease of implementation and reliable prediction performance besides regression, SVR, ARMAX, CHAID for building energy use prediction. The energy type was divided into 5 categories i.e whole building energy/electricity (35%), heating and cooling energy (11%), heating energy (11%), cooling energy (13%) and all others (8%). Other considerable parameter was Prediction time scale which represents the time resolution of the prediction which is often impacted by the sampling interval of sensors and the research. Preferred time scale was Hour (49%), Day (19%), Year (8%) and Other (24% - min-by-min, week, month). Based on knowledge researchers collect data. Meteorology (60%), Occupancy(29%), Other(54%). Different patterns could be identified and analyzed.\n",
    "\n",
    "The various AI-based prediction models involve methods like Data collection, data preprocessing, model training and model testing.\n",
    "\n",
    "Single prediction method uses only one prediction algorithm and some examples of such algorithms discussed in this paper are the MLR, ANN, and SVR models, because of their ease of use, MLR models have been used to predict building energy loads.The inputs for the regression models include building shape factor, envelope U-value, window-to-floor area ratio, building time constant and climate which is defined as a function of sol-air temperature and heating set-point.The ease of use is considered as the main advantage of MLR method because no parameters need to be tuned, but its limitation is i ts inability to deal with nonlinear problems.\n",
    "\n",
    "ANN is a nonlinear statistical learning technique inspired by biological neural networks. It is used as a random function approximation tool because the complex relationships between inputs and outputs can be modeled.According to the reviews, the main advantage of ANN method is its ability to detect complex nonlinear relationships between the inputs and outputs implicitly. This characteristic makes it possible to be applied for real-time monitoring. However, ANN method fails to establish any interconnection relationship between building physical parameters and building energy use, which limits the model's fitting ability when changes are made to building components or systems.\n",
    "\n",
    "In the Ensemble prediction method, the aim is to provide best possible prediction performance by automatically managing the strengths and weaknesses of each base model. It has multiple learning models depending on base model resampling, manipulation or randomization of training data, learning algorithm and parameters. Ensemble models can be Homogenous and Heterogenous models. Homogenous model uses bagging and boosting. The various ways to implement it is firstly via Input feature identification, Data monitoring and preprocessing, Learning algorithm selection, Base model generation, Model integration"
   ]
  },
  {
   "cell_type": "markdown",
   "metadata": {},
   "source": [
    "### Pros"
   ]
  },
  {
   "cell_type": "markdown",
   "metadata": {},
   "source": [
    "1.I like the flow of the paper. Even a person who has absolutely no knowledge in this field will be able to understand this paper.\n",
    "\n",
    "2.The abstract summarizes the paper and includes conclusions as well as the statement of the original problem.\n",
    "\n",
    "3.The tables, graphs and pictorial representation of the data is commendable."
   ]
  },
  {
   "cell_type": "markdown",
   "metadata": {},
   "source": [
    "### Cons"
   ]
  },
  {
   "cell_type": "markdown",
   "metadata": {},
   "source": [
    "1.Could have given a little more information about the inputs such as what type of climatic condition are they performing this study etc., this could have given a more clear picture about the output.\n",
    "\n",
    "2.The author has listed out various studies conducted by different people across the world on ANN which is not necessary. They could have mentioned few studies relevant to this topic and concluded by saying why ANN is preferred.\n",
    "\n",
    "3.In ‘Table 1’ under ‘Prediction time scale’ - ‘Other’ column there is a lack of uniformity, for example ‘15 min’ and ‘15 Mins’. Also, a light weighted line separating two rows will help reader to trace through the row. And there is possibility to compress the table in one page, to save space and better representation."
   ]
  },
  {
   "cell_type": "markdown",
   "metadata": {},
   "source": [
    "### Conclusion"
   ]
  },
  {
   "cell_type": "markdown",
   "metadata": {},
   "source": [
    "It was concluded that the ensemble prediction methods were much more accurate and stable that single prediction methods but due to the complexity of the ensemble models it is not used so much as compared to the single prediction method due to its ease of use and fast calculations and reliability, another drawback of the ensemble prediction method is the fact that its prediction performance highly depends on the selection of base models, so in the future may be esnsemble models might be used more as more research is done using this model but as for now the single prediction model is the one that is most widely used."
   ]
  },
  {
   "cell_type": "code",
   "execution_count": null,
   "metadata": {},
   "outputs": [],
   "source": []
  }
 ],
 "metadata": {
  "kernelspec": {
   "display_name": "Python 3",
   "language": "python",
   "name": "python3"
  },
  "language_info": {
   "codemirror_mode": {
    "name": "ipython",
    "version": 3
   },
   "file_extension": ".py",
   "mimetype": "text/x-python",
   "name": "python",
   "nbconvert_exporter": "python",
   "pygments_lexer": "ipython3",
   "version": "3.7.0"
  }
 },
 "nbformat": 4,
 "nbformat_minor": 2
}
