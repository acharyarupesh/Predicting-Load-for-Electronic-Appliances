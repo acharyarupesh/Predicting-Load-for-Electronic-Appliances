{
 "cells": [
  {
   "cell_type": "markdown",
   "metadata": {},
   "source": [
    "# Prediction of appliances energy use in smart homes"
   ]
  },
  {
   "cell_type": "markdown",
   "metadata": {},
   "source": [
    "Research Paper - https://www.sciencedirect.com/science/article/pii/S0360544212002903\n",
    "\n",
    "Summary\n",
    "\n",
    "This paper has been written with an aim to predict the energy consumption in household for the next day. To achieve this, they have collected data of homes of France and have analyzed and have come up with certain predictors.  It has tested two predictors and has also proposed stochastic based predictor. Processing techinque is used to improve performance of the predictor, segmentation and aggregation of the data.\n",
    "\n",
    "\n",
    "Introduction\n",
    "\n",
    "It has been studied that residential sector is the biggest sector in electricity consumption. And it is required that we understand the pattern of electricity consumption in household so that Industries can generate and transfer only that amount of energy to the household area to better circulate power. The energy market is divided into distinct categories, but the Day Ahead Market or Spot Market is of great interest. This type of energy market involves bidding the energy consumption of the next day. It is a very complex mechanism, which requires a very good knowledge of the demand for the power suppliers.\n",
    "There were lots of theories which were proposed but it is important to understand the each and every criteria like number of appliances, usage of these appliances, day of week, etc. So, this paper concentrates more over discrimination of usage of electricity on appliance level which would make things easier to understand the pattern of usage of electricity over the course of time. In order to get a better load control, the energy prediction has to go down from total household energy consumption to electrical device consumption.\n",
    "\n",
    "Need for Energy Prediction\n",
    "\n",
    "1.\tPower system challlenges are met by the Smart grid concept\n",
    "2.\tIt integrates the use of sensors, communications, computational ability and control in order to enhance the overall functionality of the electric power system.\n",
    "3.\tThere is a need to manage energy use and its cost\n",
    "4.\tThe main purpose of the electrical grid is to assure the energy production necessary for consumers’ consumption in a reliable manner\n",
    "5.\tElectric grid assure the necesiity of energy production for the customer commsumption\n",
    "6.\tDemand response which is refer to the ability to cut off some electrical loads at peak times to ameliorate the need for peaking generation sources. and Demand dispatc that refers to the ability to control in a precise manner the individual loads at all times, not only at peak period is gaining importances in the enviroment compliance.\n",
    "\n",
    "\n",
    "Load management which eventually controls the energy consumption involves two approaches\n",
    "•\tDirect control refers to the classical methods of load control which involve increasing the energy production in case of higher load demand.\n",
    "\n",
    "•\tTo limit or change the energy consumption habits is the energy price - control by cost\n",
    "\n",
    "\n",
    "When it is been understood that we have to consider the usage of appliances to get a better picture of electricity consumption and load balancing, there are 4 different type of predictors which can be considered to calculate the same.\n",
    "•\tThe “will always consume” predictor: According to this predictor, we assume that an appliance is always running and consuming electricity.\n",
    "\n",
    "•\tThe “will never consume” predictor: According to this predictor, we assume that an appliance is not at all being used and is not consuming electricity.\n",
    "\n",
    "•\tThe ARMA predictor: ARMA stands for Autoregressive Moving Average. According to this method current value of a time variable is assumed to be a function of its past values and it is expressed as a weighted sum (moving average).\n",
    "\n",
    "•\tThe proposed predictor: According to this model, an inhabitant in the house interacts with various electrical devices as part of his routine activities. Thus, energy consumption can be modeled as a process which is having a random probability distribution or pattern that may be analyzed statistically but may not be predicted precisely.\n",
    "\n",
    "Conclusion\n",
    "\n",
    "The prediction of energy consumption in housing is very dependent on inhabitants’ behavior, so a stochastic method for prediction has been presented in this paper. Diffrent predicted have been prosed and tested in this paper. The data has been be segemented into k means clusters in order to improve the prediction precision.\n",
    "\n",
    "Drawbacks\n",
    "•\tThe paper has vaguely provided concepts of the other paper it is refering to, thus complying reader to go through those paper first before understanding this paper thoroughly.\n",
    "\n",
    "•\tPaper has not considered the predictores where appliances are consuming energy arbitrarily.\n",
    "\n",
    "•\tTotal energy consumption of the household shoud also have been considered\n",
    "\n"
   ]
  },
  {
   "cell_type": "code",
   "execution_count": null,
   "metadata": {},
   "outputs": [],
   "source": []
  }
 ],
 "metadata": {
  "kernelspec": {
   "display_name": "Python 3",
   "language": "python",
   "name": "python3"
  },
  "language_info": {
   "codemirror_mode": {
    "name": "ipython",
    "version": 3
   },
   "file_extension": ".py",
   "mimetype": "text/x-python",
   "name": "python",
   "nbconvert_exporter": "python",
   "pygments_lexer": "ipython3",
   "version": "3.7.0"
  }
 },
 "nbformat": 4,
 "nbformat_minor": 2
}
